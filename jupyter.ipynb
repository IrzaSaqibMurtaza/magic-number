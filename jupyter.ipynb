{
 "cells": [
  {
   "cell_type": "code",
   "execution_count": 1,
   "metadata": {},
   "outputs": [
    {
     "name": "stdout",
     "output_type": "stream",
     "text": [
      "21  is the sum of all the digits of your number\n"
     ]
    }
   ],
   "source": [
    "num=int(input(\"Enter any Digit-number: \"))\n",
    "sum=0\n",
    "while num>=10:\n",
    "  R=num%10\n",
    "  sum+=R\n",
    "  num//=10\n",
    "sum+=num\n",
    "print(sum,\" is the sum of all the digits of your number\")"
   ]
  }
 ],
 "metadata": {
  "kernelspec": {
   "display_name": "Python 3",
   "language": "python",
   "name": "python3"
  },
  "language_info": {
   "codemirror_mode": {
    "name": "ipython",
    "version": 3
   },
   "file_extension": ".py",
   "mimetype": "text/x-python",
   "name": "python",
   "nbconvert_exporter": "python",
   "pygments_lexer": "ipython3",
   "version": "3.11.7"
  }
 },
 "nbformat": 4,
 "nbformat_minor": 2
}
